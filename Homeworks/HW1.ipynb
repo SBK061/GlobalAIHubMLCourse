{
 "cells": [
  {
   "cell_type": "markdown",
   "metadata": {},
   "source": [
    "Question 1 : Our program learn with upload own data or collect some website.it will guess what we want and show us in future.it is magic of learning of data and analysze.In machine learning, algorithms are 'trained' to find patterns and features in massive amounts of data in order to make decisions and predictions based on new data.\n",
    "\"\"\"\"\"\"\"\"\"\"\"\"\"\"\"\"\"\"\"\"\"\"\"\"\"\"\"\"\"\"\"\"\"\"\"\"\"\"\"\"\"\"\"\"\"\"\"\"\"\"\"\"\"\"\"\"\"\"\"\"\"\"\"\"\"\"\"\"\"\"\"\"\"\"\"\"\"\"\"\"\"\"\"\"\"\"\"\"\"\"\"\"\"\"\"\"\"\"\"\"\"\"\"\"\"\"\"\"\"\"\"\"\"\"\"\"\"\"\"\n",
    "Question 2 :\n",
    "    -Supervised learning allows you to collect data or produce a data output from the previous experience.\n",
    "    -Helps you to optimize performance criteria using experience\n",
    "    -Supervised machine learning helps you to solve various types of real-world computation problems.\n",
    "    -Unsupervised machine learning finds all kind of unknown patterns in data.\n",
    "    -It'staken place in real time, so all the input data to be analyzed and labeled in the presence of learners.\n",
    "Supervised Algorithms :Decision Tree,Suppoer Vector Machine , Naive Bayes \n",
    "Unsupervised Algoriths :K-means clustering , Apriori , Cluster Analysis\n",
    "\"\"\"\"\"\"\"\"\"\"\"\"\"\"\"\"\"\"\"\"\"\"\"\"\"\"\"\"\"\"\"\"\"\"\"\"\"\"\"\"\"\"\"\"\"\"\"\"\"\"\"\"\"\"\"\"\"\"\"\"\"\"\"\"\"\"\"\"\"\"\"\"\"\"\"\"\"\"\"\"\"\"\"\"\"\"\"\"\"\"\"\"\"\"\"\"\"\"\"\"\"\"\"\"\"\"\"\"\"\"\"\"\"\"\"\"\"\"\"\n",
    "Quesiton 3 : Validation set, : A set of examples used to tune the parameters of a classifier. Test data ,A set of examples used only to assess the performance of a fully-specified classifier. We use them for machine leraning algorithms can be deployed to deal with real-world data.\n",
    "\"\"\"\"\"\"\"\"\"\"\"\"\"\"\"\"\"\"\"\"\"\"\"\"\"\"\"\"\"\"\"\"\"\"\"\"\"\"\"\"\"\"\"\"\"\"\"\"\"\"\"\"\"\"\"\"\"\"\"\"\"\"\"\"\"\"\"\"\"\"\"\"\"\"\"\"\"\"\"\"\"\"\"\"\"\"\"\"\"\"\"\"\"\"\"\"\"\"\"\"\"\"\"\"\"\"\"\"\"\"\"\"\"\"\"\"\"\"\"\n",
    "Quesiton 4 : \n",
    "    -Acquire the dataset\n",
    "    -Import all the crucial libraries\n",
    "    - Import the dataset \n",
    "    -Identifying and handling the missing values :In data preprocessing, it is pivotal to identify and correctly handle the missing values, failing to do this, you might draw inaccurate and faulty conclusions and inferences from the data.\n",
    "    -Encoding the categorical data :Categorical data refers to the information that has specific categories within the dataset.\n",
    "    -Splitting the dataset :Training set denotes the subset of a dataset that is used for training the machine learning model\n",
    "    -Feature scaling :Feature scaling marks the end of the data preprocessing in Machine Learning\n",
    "    When we use above all steps ,  It's gotten easier with new tools that enable any user to cleanse and qualify data on their own.\n",
    "\"\"\"\"\"\"\"\"\"\"\"\"\"\"\"\"\"\"\"\"\"\"\"\"\"\"\"\"\"\"\"\"\"\"\"\"\"\"\"\"\"\"\"\"\"\"\"\"\"\"\"\"\"\"\"\"\"\"\"\"\"\"\"\"\"\"\"\"\"\"\"\"\"\"\"\"\"\"\"\"\"\"\"\"\"\"\"\"\"\"\"\"\"\"\"\"\"\"\"\"\"\"\"\"\"\"\"\"\"\"\"\"\"\"\"\"\"\"\"\n",
    "Quesitons 5 :Discrete variables are countable in a finite amount of time. For example, we can count the change in own pocket.Continuous Variables would take forever to count. In fact, we would get to “forever” and never finish counting them.\n",
    "\"\"\"\"\"\"\"\"\"\"\"\"\"\"\"\"\"\"\"\"\"\"\"\"\"\"\"\"\"\"\"\"\"\"\"\"\"\"\"\"\"\"\"\"\"\"\"\"\"\"\"\"\"\"\"\"\"\"\"\"\"\"\"\"\"\"\"\"\"\"\"\"\"\"\"\"\"\"\"\"\"\"\"\"\"\"\"\"\"\"\"\"\"\"\"\"\"\"\"\"\"\"\"\"\"\"\"\"\"\"\"\"\"\"\"\"\"\"\"\n",
    "Questşon 6 : A table is Probability Distribution.It has two types what are discrete and continous values.Table show destiny of values.We can learm top value where it is.  X-axis  holds the experiment outcome for which we want to plot the distribution and y-axis either can be probability or number of experiments for which we observed the outcomes.\n"
   ]
  }
 ],
 "metadata": {
  "kernelspec": {
   "display_name": "Python 3",
   "language": "python",
   "name": "python3"
  },
  "language_info": {
   "codemirror_mode": {
    "name": "ipython",
    "version": 3
   },
   "file_extension": ".py",
   "mimetype": "text/x-python",
   "name": "python",
   "nbconvert_exporter": "python",
   "pygments_lexer": "ipython3",
   "version": "3.8.3"
  }
 },
 "nbformat": 4,
 "nbformat_minor": 4
}
